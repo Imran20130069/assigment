{
 "cells": [
  {
   "cell_type": "code",
   "execution_count": null,
   "id": "4a00f52a-4a8f-472d-ba60-c246ce0d2722",
   "metadata": {},
   "outputs": [
    {
     "name": "stdin",
     "output_type": "stream",
     "text": [
      "Enter you marks  12\n"
     ]
    },
    {
     "name": "stdout",
     "output_type": "stream",
     "text": [
      "Grade D\n"
     ]
    }
   ],
   "source": [
    "# Q1\n",
    "marks = int(input(\"Enter you marks \"))\n",
    "if marks >90:\n",
    "    print (\"Grade A\")\n",
    "if marks >80 and marks <=90:\n",
    "    print (\"Grade B\")\n",
    "if marks >=60 and marks <=80:\n",
    "    print (\"Grade C\")\n",
    "elif marks <60:\n",
    "    print(\"Grade D\")"
   ]
  },
  {
   "cell_type": "code",
   "execution_count": 1,
   "id": "3eb574c8-be22-4639-bb64-b88d427e5848",
   "metadata": {},
   "outputs": [
    {
     "name": "stdin",
     "output_type": "stream",
     "text": [
      "Enter the cost in Rs  300\n"
     ]
    },
    {
     "name": "stdout",
     "output_type": "stream",
     "text": [
      "tax would be 5%\n"
     ]
    }
   ],
   "source": [
    "# Q2_30Jan_assignment\n",
    "cost_price = float(input ( \"Enter the cost in Rs \"))\n",
    "if cost_price >100000:\n",
    "    print( \"tax would be 15%\")\n",
    "if cost_price >50000 and cost_price<=100000:\n",
    "    print(\"tax would be 10%\")\n",
    "elif cost_price <=50000:\n",
    "    print(\"tax would be 5%\")\n",
    "    "
   ]
  },
  {
   "cell_type": "code",
   "execution_count": 29,
   "id": "17392bbc-c413-4655-88bf-5618aff7abed",
   "metadata": {},
   "outputs": [
    {
     "name": "stdin",
     "output_type": "stream",
     "text": [
      "Enter the City Name jaipur\n"
     ]
    },
    {
     "name": "stdout",
     "output_type": "stream",
     "text": [
      "jal mahal\n"
     ]
    }
   ],
   "source": [
    "#Q3\n",
    "name_of_city = input(\"Enter the City Name\")\n",
    "if name_of_city == \"delhi\":\n",
    "    print(\"Red Fort\")\n",
    "if name_of_city == \"agra\":\n",
    "    print(\"taj mahal\")\n",
    "elif name_of_city == \"jaipur\":\n",
    "    print(\"jal mahal\")"
   ]
  },
  {
   "cell_type": "code",
   "execution_count": 7,
   "id": "d4f12a36-d164-479c-8b34-2bec6fc2ccc1",
   "metadata": {},
   "outputs": [
    {
     "name": "stdin",
     "output_type": "stream",
     "text": [
      "Enter the number:  3\n"
     ]
    },
    {
     "name": "stdout",
     "output_type": "stream",
     "text": [
      "this is divisible by 3 \n"
     ]
    }
   ],
   "source": [
    "# Q4\n",
    "number = int(input( \"Enter the number: \"))\n",
    "count = 1\n",
    "while number<10:\n",
    "    print (number*count/3)\n",
    "    break\n",
    "else:\n",
    "    print(\"thisnumber is greater then 10 \")\n",
    "    \n",
    "\n",
    "     "
   ]
  },
  {
   "cell_type": "code",
   "execution_count": 33,
   "id": "086b9a6d-ecc9-4109-9fd6-e52ea95ae761",
   "metadata": {},
   "outputs": [
    {
     "name": "stdin",
     "output_type": "stream",
     "text": [
      "Enter a number:  555\n"
     ]
    },
    {
     "name": "stdout",
     "output_type": "stream",
     "text": [
      "The sum of integers from 1 to 555 is: 154290\n"
     ]
    }
   ],
   "source": [
    "# Q5 we use while loop because it's check the condition to givem and \n",
    "# go to the one by one and match the condition and give the return until condition will not true.\n",
    "\n",
    "# Ask the user for the value of N\n",
    "N = int(input(\"Enter a number: \"))\n",
    "\n",
    "# Initialize variables\n",
    "sum = 0\n",
    "counter = 1\n",
    "\n",
    "# Use a while loop to calculate the sum of integers from 1 to N\n",
    "while counter <= N:\n",
    "    sum += counter  # Add the current number to the sum\n",
    "    counter += 1     # Move to the next number\n",
    "\n",
    "# Print the result\n",
    "print(f\"The sum of integers from 1 to {N} is: {sum}\")\n"
   ]
  },
  {
   "cell_type": "code",
   "execution_count": 35,
   "id": "c24fc2d1-6f16-4bcc-a2c5-13ddf0c06fbf",
   "metadata": {},
   "outputs": [
    {
     "name": "stdout",
     "output_type": "stream",
     "text": [
      "*****\n",
      "*****\n",
      "*****\n",
      "*****\n",
      "*****\n"
     ]
    }
   ],
   "source": [
    "# Q6\n",
    "# Pattern 1: Square\n",
    "row = 1\n",
    "while row <= 5:\n",
    "    col = 1\n",
    "    while col <= 5:\n",
    "        print(\"*\", end=\"\")\n",
    "        col += 1\n",
    "    print()\n",
    "    row += 1\n"
   ]
  },
  {
   "cell_type": "code",
   "execution_count": 2,
   "id": "1c4f4ca6-2092-4711-a92f-ae68710d979a",
   "metadata": {},
   "outputs": [
    {
     "name": "stdout",
     "output_type": "stream",
     "text": [
      "*\n",
      "**\n",
      "***\n",
      "****\n",
      "*****\n"
     ]
    }
   ],
   "source": [
    "# Pattern triangle\n",
    "row = 1\n",
    "while row <= 5:\n",
    "    col = 1\n",
    "    while col <=row :\n",
    "        print(\"*\", end=\"\")\n",
    "        col += 1\n",
    "    print()\n",
    "    row += 1\n"
   ]
  },
  {
   "cell_type": "code",
   "execution_count": 4,
   "id": "b2f09c32-f284-4621-9619-6c4c792ac6fc",
   "metadata": {},
   "outputs": [
    {
     "name": "stdout",
     "output_type": "stream",
     "text": [
      "      * \n",
      "    * * \n",
      "  * * * \n",
      "* * * * \n"
     ]
    }
   ],
   "source": [
    "# Pattern 3: Pyramid Pattern\n",
    "rows = 4\n",
    "i = 1\n",
    "\n",
    "while i <= rows:\n",
    "   \n",
    "    j = 1\n",
    "    while j <= rows - i:\n",
    "        print(\" \", end=' ')\n",
    "        j += 1\n",
    "\n",
    "   \n",
    "    k = 1\n",
    "    while k <= i:\n",
    "        print(\"*\", end=' ')\n",
    "        k += 1\n",
    "    print()\n",
    "    i += 1\n"
   ]
  },
  {
   "cell_type": "code",
   "execution_count": null,
   "id": "a5797e9f-3336-4af8-a5cc-2e039a683970",
   "metadata": {},
   "outputs": [
    {
     "name": "stdout",
     "output_type": "stream",
     "text": [
      "10\n",
      "9\n",
      "8\n",
      "7\n",
      "6\n",
      "5\n",
      "4\n",
      "3\n",
      "2\n",
      "1\n"
     ]
    }
   ],
   "source": [
    "# Q7 \n",
    "number =10\n",
    "while number>=1:\n",
    "    print(number)\n",
    "    number-=1\n",
    "    "
   ]
  },
  {
   "cell_type": "code",
   "execution_count": null,
   "id": "ecd0ad43-69c5-4436-8791-2713500a1cb4",
   "metadata": {},
   "outputs": [],
   "source": [
    "# Q8 \n",
    "number =10\n",
    "while number>=1:\n",
    "    print(number)\n",
    "    number-=1"
   ]
  }
 ],
 "metadata": {
  "kernelspec": {
   "display_name": "Python 3 (ipykernel)",
   "language": "python",
   "name": "python3"
  },
  "language_info": {
   "codemirror_mode": {
    "name": "ipython",
    "version": 3
   },
   "file_extension": ".py",
   "mimetype": "text/x-python",
   "name": "python",
   "nbconvert_exporter": "python",
   "pygments_lexer": "ipython3",
   "version": "3.10.8"
  }
 },
 "nbformat": 4,
 "nbformat_minor": 5
}
