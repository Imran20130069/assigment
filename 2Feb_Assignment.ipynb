{
 "cells": [
  {
   "cell_type": "code",
   "execution_count": 17,
   "id": "c326f40c-d73d-4709-84e1-d77711ffa234",
   "metadata": {},
   "outputs": [
    {
     "name": "stdout",
     "output_type": "stream",
     "text": [
      "1\n",
      "2\n",
      "3\n",
      "4\n",
      "5\n",
      "6\n"
     ]
    }
   ],
   "source": [
    " # Q1 for loop : it is the statement or array execute squencely if conditon is match.\n",
    "    # example\n",
    "a=[1,2,3,4,5,6]\n",
    "for i in a:\n",
    "    print(i)"
   ]
  },
  {
   "cell_type": "code",
   "execution_count": 1,
   "id": "6e0dff1f-cd84-451f-b4d7-415a3c17e920",
   "metadata": {},
   "outputs": [
    {
     "name": "stdout",
     "output_type": "stream",
     "text": [
      "1\n",
      "2\n",
      "3\n",
      "4\n",
      "5\n",
      "6\n",
      "7\n",
      "8\n",
      "9\n",
      "10\n"
     ]
    }
   ],
   "source": [
    "# Q3 while loop :it is the statement or array execute one by one if condition has true otherwise \n",
    "# not enter in loop\n",
    "a = 1\n",
    "while a<=10:\n",
    "    print (a)\n",
    "    a = a+1"
   ]
  },
  {
   "cell_type": "code",
   "execution_count": 5,
   "id": "e7c477ef-c32a-40f8-b4bd-3555dc842cce",
   "metadata": {},
   "outputs": [],
   "source": [
    "# Q2 using for loop"
   ]
  },
  {
   "cell_type": "code",
   "execution_count": 6,
   "id": "4efd13f2-e26e-48d8-ac05-ec886136125a",
   "metadata": {},
   "outputs": [
    {
     "name": "stdout",
     "output_type": "stream",
     "text": [
      "sum of first 10 natural number: 55\n",
      "product of first 10 natural number: 3628800\n"
     ]
    }
   ],
   "source": [
    "sum_of_number = 0\n",
    "product_of_number = 1\n",
    "for i in range(1,11):\n",
    "    sum_of_number += i\n",
    "    product_of_number *= i\n",
    "print( \"sum of first 10 natural number:\", sum_of_number)\n",
    "print(\"product of first 10 natural number:\", product_of_number)"
   ]
  },
  {
   "cell_type": "code",
   "execution_count": 7,
   "id": "3222c9da-1490-41bf-a06c-b1db182d1cf8",
   "metadata": {},
   "outputs": [
    {
     "name": "stdout",
     "output_type": "stream",
     "text": [
      "sum of first 10 natural number: 55\n",
      "product of first 10 natural number: 3628800\n"
     ]
    }
   ],
   "source": [
    "sum_of_number = 0\n",
    "product_of_number = 1\n",
    "counter =  1\n",
    "while counter<=10:\n",
    "    sum_of_number += counter\n",
    "    product_of_number *= counter\n",
    "    counter += 1\n",
    "print( \"sum of first 10 natural number:\", sum_of_number)\n",
    "print(\"product of first 10 natural number:\", product_of_number)\n",
    "    "
   ]
  },
  {
   "cell_type": "code",
   "execution_count": 65,
   "id": "a7be32ff-2a0f-4476-8f2a-ff2fd8c2318f",
   "metadata": {},
   "outputs": [
    {
     "name": "stdin",
     "output_type": "stream",
     "text": [
      "Enter the number of units consumed:  310\n"
     ]
    },
    {
     "name": "stdout",
     "output_type": "stream",
     "text": [
      "Total electricity bill: Rs. 2250.0\n"
     ]
    }
   ],
   "source": [
    "#Q3\n",
    "units_consumed = int(input(\"Enter the number of units consumed: \"))\n",
    "\n",
    "total_bill = 0\n",
    "\n",
    "charge_1 = 4.5 \n",
    "charge_2 = 6  \n",
    "charge_3 = 10  \n",
    "charge_4 = 20   \n",
    "\n",
    "if units_consumed <= 100:\n",
    "    total_bill = units_consumed * charge_1\n",
    "elif units_consumed <= 200:\n",
    "    total_bill = 100 * charge_1 + (units_consumed - 100) * charge_2\n",
    "elif units_consumed <= 300:\n",
    "    total_bill = 100 * charge_1 + 100 * charge_2 + (units_consumed - 200) * charge_3\n",
    "else:\n",
    "    total_bill = 100 * charge_1 + 100 * charge_2 + 100 * charge_3 + (units_consumed - 300) * charge_4\n",
    "\n",
    "print(\"Total electricity bill: Rs.\", total_bill)"
   ]
  },
  {
   "cell_type": "code",
   "execution_count": 54,
   "id": "b9af8da7-aeb2-4e35-b142-a3387ca6fd69",
   "metadata": {},
   "outputs": [
    {
     "name": "stdout",
     "output_type": "stream",
     "text": [
      "[2, 4, 5, 6, 8, 10, 12, 14, 15, 16, 18, 20, 22, 24, 25, 26, 28, 30, 32, 34, 35, 36, 38, 40, 42, 44, 45, 46, 48, 50, 52, 54, 55, 56, 58, 60, 62, 64, 65, 66, 68, 70, 72, 74, 75, 76, 78, 80, 82, 84, 85, 86, 88, 90, 92, 94, 95, 96, 98, 100]\n"
     ]
    }
   ],
   "source": [
    "# Q4\n",
    "l=[]\n",
    "for i in list(range(1,101)):\n",
    "    cube = i ** 3\n",
    "    if cube%4 ==0 or cube%5==0:\n",
    "        l.append(i)\n",
    "print(l)\n",
    "\n",
    "    \n"
   ]
  },
  {
   "cell_type": "code",
   "execution_count": 26,
   "id": "e8a03f51-c678-4d04-a5f0-abd5d1ed3f94",
   "metadata": {},
   "outputs": [
    {
     "name": "stdout",
     "output_type": "stream",
     "text": [
      "number of vowel 12\n"
     ]
    }
   ],
   "source": [
    "# Q5\n",
    "s1 = \"I want to become a data scientist\"\n",
    "s2= s1.lower()\n",
    "count=0\n",
    "l1=[\"a\" ,\"i\" ,\"o\",\"u\",\"e\"]\n",
    "for s3 in s2:\n",
    "    if s3 in l1:\n",
    "        count = count+1\n",
    "print(\"number of vowel\",count)"
   ]
  },
  {
   "cell_type": "code",
   "execution_count": 50,
   "id": "77c3962a-b132-42dd-9c8b-5ad87257d9e6",
   "metadata": {},
   "outputs": [
    {
     "name": "stdout",
     "output_type": "stream",
     "text": [
      "[2, 4, 5, 6, 8, 10, 12, 14, 15, 16, 18, 20, 22, 24, 25, 26, 28, 30, 32, 34, 35, 36, 38, 40, 42, 44, 45, 46, 48, 50, 52, 54, 55, 56, 58, 60, 62, 64, 65, 66, 68, 70, 72, 74, 75, 76, 78, 80, 82, 84, 85, 86, 88, 90, 92, 94, 95, 96, 98, 100]\n"
     ]
    }
   ],
   "source": [
    "# Using a for loop\n",
    "numbers = list(range(1, 101))\n",
    "result_list = []\n",
    "\n",
    "for num in numbers:\n",
    "    cube = num ** 3\n",
    "    if cube % 4 == 0 or cube % 5 == 0:\n",
    "        result_list.append(num)\n",
    "\n",
    "print(result_list)\n"
   ]
  },
  {
   "cell_type": "code",
   "execution_count": null,
   "id": "be4ac02c-7ce9-4f64-a3ee-91d9161e19aa",
   "metadata": {},
   "outputs": [],
   "source": []
  }
 ],
 "metadata": {
  "kernelspec": {
   "display_name": "Python 3 (ipykernel)",
   "language": "python",
   "name": "python3"
  },
  "language_info": {
   "codemirror_mode": {
    "name": "ipython",
    "version": 3
   },
   "file_extension": ".py",
   "mimetype": "text/x-python",
   "name": "python",
   "nbconvert_exporter": "python",
   "pygments_lexer": "ipython3",
   "version": "3.10.8"
  }
 },
 "nbformat": 4,
 "nbformat_minor": 5
}
