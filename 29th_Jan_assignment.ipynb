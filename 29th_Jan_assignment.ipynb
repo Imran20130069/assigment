{
 "cells": [
  {
   "cell_type": "code",
   "execution_count": 9,
   "id": "72e2bacb-96cd-4acc-a218-a2c3d7d30605",
   "metadata": {},
   "outputs": [
    {
     "data": {
      "text/plain": [
       "' Q1 Python was created by Guido van Rossum'"
      ]
     },
     "execution_count": 9,
     "metadata": {},
     "output_type": "execute_result"
    }
   ],
   "source": [
    "\"\"\" Q1 Python was created by Guido van Rossum\"\"\""
   ]
  },
  {
   "cell_type": "code",
   "execution_count": 6,
   "id": "4ca604e7-fe0c-4bef-a6f9-5d908848aed0",
   "metadata": {},
   "outputs": [
    {
     "data": {
      "text/plain": [
       "'Q2 object oriented programming.'"
      ]
     },
     "execution_count": 6,
     "metadata": {},
     "output_type": "execute_result"
    }
   ],
   "source": [
    "\"\"\"Q2 object oriented programming.\"\"\""
   ]
  },
  {
   "cell_type": "code",
   "execution_count": 5,
   "id": "d8eb39c9-1573-483b-a972-1ae344e37214",
   "metadata": {},
   "outputs": [
    {
     "data": {
      "text/plain": [
       "' Q3 Yes, Python is case-sensitive when it comes to \\n identifiers such as variable names, function names, \\nclass names, and other symbols you define in your code.\\n This meansthat Python treats uppercase and lowercase letters\\n as distinct and separate.'"
      ]
     },
     "execution_count": 5,
     "metadata": {},
     "output_type": "execute_result"
    }
   ],
   "source": [
    "\"\"\" Q3 Yes, Python is case-sensitive when it comes to \n",
    " identifiers such as variable names, function names, \n",
    "class names, and other symbols you define in your code.\n",
    " This meansthat Python treats uppercase and lowercase letters\n",
    " as distinct and separate.\"\"\"\n"
   ]
  },
  {
   "cell_type": "code",
   "execution_count": 10,
   "id": "7116e2a7-de62-41f1-b323-bb2cb97e1b59",
   "metadata": {},
   "outputs": [],
   "source": [
    "# Q4 .py"
   ]
  },
  {
   "cell_type": "code",
   "execution_count": 12,
   "id": "0f4460dd-0243-4b9f-b4f7-c70776e7f788",
   "metadata": {},
   "outputs": [
    {
     "data": {
      "text/plain": [
       "\"Q5 In Python, various blocks of code are used \\nto define different aspects of a program's logic and structure.\\nHere are some key blocks of code used in Python:\\nFunction Blocks: These blocks define functions, \\nwhich are reusable blocks of code that perform specific tasks when called.\""
      ]
     },
     "execution_count": 12,
     "metadata": {},
     "output_type": "execute_result"
    }
   ],
   "source": [
    "\"\"\"Q5 In Python, various blocks of code are used \n",
    "to define different aspects of a program's logic and structure.\n",
    "Here are some key blocks of code used in Python:\n",
    "Function Blocks: These blocks define functions, \n",
    "which are reusable blocks of code that perform specific tasks when called.\"\"\""
   ]
  },
  {
   "cell_type": "code",
   "execution_count": 13,
   "id": "41d65639-ad22-4eb4-aa5f-53fc270f91e6",
   "metadata": {},
   "outputs": [
    {
     "data": {
      "text/plain": [
       "'Class Blocks: These are used to define classes in Python.\\nClasses are used for object-oriented programming and encapsulate data and behavior.'"
      ]
     },
     "execution_count": 13,
     "metadata": {},
     "output_type": "execute_result"
    }
   ],
   "source": [
    "\"\"\"Class Blocks: These are used to define classes in Python.\n",
    "Classes are used for object-oriented programming and encapsulate data and behavior.\"\"\""
   ]
  },
  {
   "cell_type": "code",
   "execution_count": 14,
   "id": "1ca69bd2-19ae-401a-a1ad-5d1fafe718a2",
   "metadata": {},
   "outputs": [
    {
     "data": {
      "text/plain": [
       "' Conditional Blocks: These are used to conditionally\\nexecute code based on conditions like if, elif, and else.'"
      ]
     },
     "execution_count": 14,
     "metadata": {},
     "output_type": "execute_result"
    }
   ],
   "source": [
    "\"\"\" Conditional Blocks: These are used to conditionally\n",
    "execute code based on conditions like if, elif, and else.\"\"\""
   ]
  },
  {
   "cell_type": "code",
   "execution_count": 15,
   "id": "6e918a47-e4c6-410c-9166-5dc5b39a1ab3",
   "metadata": {},
   "outputs": [
    {
     "data": {
      "text/plain": [
       "'Loop Blocks: These are used to create loops that repeat a block of code.\\nCommon types of loops in Python include for and while loops.'"
      ]
     },
     "execution_count": 15,
     "metadata": {},
     "output_type": "execute_result"
    }
   ],
   "source": [
    "\"\"\"Loop Blocks: These are used to create loops that repeat a block of code.\n",
    "Common types of loops in Python include for and while loops.\"\"\""
   ]
  },
  {
   "cell_type": "code",
   "execution_count": 16,
   "id": "3dd11836-8ef3-48f0-886d-43242df6e653",
   "metadata": {},
   "outputs": [],
   "source": [
    "#Q7 In Python, the character used to denote a single-line comment is the hash symbol (#). "
   ]
  },
  {
   "cell_type": "code",
   "execution_count": 22,
   "id": "d8ac6972-8467-4a17-838c-ad6cf7c99102",
   "metadata": {},
   "outputs": [],
   "source": [
    "# Q8  the sys module to find the version of Python you are currently working with. "
   ]
  },
  {
   "cell_type": "code",
   "execution_count": 23,
   "id": "b01de955-2ad2-49f6-a813-f2ad8a49e301",
   "metadata": {},
   "outputs": [],
   "source": [
    "# Q9 Yes, in Python, we can create anonymous functions at runtime using a construct called \"lambda\" functions."
   ]
  },
  {
   "cell_type": "code",
   "execution_count": 25,
   "id": "cc363873-7ac7-40c7-9e58-035bce709567",
   "metadata": {},
   "outputs": [],
   "source": [
    "# Q10 \"Pip\" in Python stands for \"Pip Installs Packages\" or sometimes \"Pip Installs Python.\n",
    "# \" Pip is a package manager for Python that allows you to easily install, manage,\n",
    "# and uninstall Python packages and libraries from the Python Package Index (PyPI) and other sources."
   ]
  },
  {
   "cell_type": "code",
   "execution_count": 26,
   "id": "3c81e16e-cd25-4398-8d6a-c1e9ba60db54",
   "metadata": {},
   "outputs": [],
   "source": [
    "# # Q11 print(): Used to print output to the console.\n",
    "\n",
    "# len(): Returns the number of items in an object, such as a string, list, or dictionary.\n",
    "\n",
    "# type(): Returns the type of an object.\n",
    "\n",
    "# input(): Reads input from the user via the keyboard.\n",
    "\n",
    "# int(), float(), str(): Used to convert values to integer, floating-point, or string data types, respectively.\n",
    "\n",
    "# range(): Generates a sequence of numbers.\n",
    "\n",
    "# list(), tuple(), dict(), set(): Used to create lists, tuples, dictionaries, and sets, respectively.\n"
   ]
  },
  {
   "cell_type": "code",
   "execution_count": 28,
   "id": "43ad3ab4-9184-433d-bd5d-8614e68ba064",
   "metadata": {},
   "outputs": [],
   "source": [
    "# Q12 In Python, the maximum possible length of an identifier is not explicitly defined by the language specification. Instead, it is limited by practical considerations, \n",
    "# such as the maximum length of variable names that can be handled by the Python interpreter and the readability of your code."
   ]
  },
  {
   "cell_type": "code",
   "execution_count": 29,
   "id": "ca0c2200-0178-4790-8b94-1977dfd79afd",
   "metadata": {},
   "outputs": [],
   "source": [
    "# Q13 versatile , easy to learn , open source , large standard liberary ,cross platform comatability ,"
   ]
  },
  {
   "cell_type": "code",
   "execution_count": 30,
   "id": "6f618594-ebd0-46ef-af6c-985cfe99a42c",
   "metadata": {},
   "outputs": [],
   "source": [
    "# Q14 Python manages memory automatically using a mechanism called\n",
    "# \"automatic memory management\" or \"garbage collection."
   ]
  },
  {
   "cell_type": "code",
   "execution_count": 31,
   "id": "29f27cf9-087c-46d5-948a-334466fee72d",
   "metadata": {},
   "outputs": [],
   "source": [
    "# Q15 To install Python on Windows and set the PATH variables, follow these steps:\n",
    "\n",
    "# Download Python:\n",
    "\n",
    "# Visit the official Python website at https://www.python.org/downloads/windows/.\n",
    "# You will see the latest version of Python available for download. Choose the version that matches your system architecture (32-bit or 64-bit) and click on the download link.\n",
    "# Run the Installer:\n",
    "\n",
    "# Once the installer executable (.exe) file is downloaded, double-click on it to run the Python installer.\n",
    "# Configure the Installation:\n",
    "\n",
    "# Click the \"Install Now\" button to start the installation process.\n",
    "# Python will be installed in the default location, typically C:\\Users\\<YourUsername>\\AppData\\Local\\Programs\\Python\\Pythonxx, where xx represents the version number.\n",
    "# Verify the Installation:\n",
    "\n",
    "# To verify that Python has been installed successfully, open a Command Prompt (cmd.exe) and type the following command:\n",
    "# css\n",
    "# Copy code\n",
    "# python --version\n",
    "# You should see the Python version number displayed, confirming that Python is installed.\n",
    "# Accessing Python: You can start the Python interpreter by simply typing python in the Command Prompt. You can also run Python scripts by creating .py files and running them from the command line or using an integrated development environment (IDE).\n",
    "\n",
    "# Install a Text Editor or IDE (Optional): While you can write and run Python code in a plain text editor like Notepad, many developers prefer using specialized Python IDEs or text editors such as Visual Studio Code, PyCharm, or IDLE.\n",
    "\n",
    "# That's it! You've successfully installed Python on your Windows system and set up the PATH variables. You can now start writing and running Python programs on your computer.\n",
    "\n",
    "\n",
    "\n",
    "\n"
   ]
  },
  {
   "cell_type": "code",
   "execution_count": null,
   "id": "a1c1fb1c-b24c-4dad-9072-5d24f420d39d",
   "metadata": {},
   "outputs": [],
   "source": [
    "# # Q16 Yes, indentation is required in Python. In Python, indentation is not just a matter of style or readability; it is a fundamental part of the language's syntax and structure. Python uses indentation to define blocks of code, such as those within functions, loops, conditionals, and classes.\n",
    "\n",
    "# Here are some key points to understand about indentation in Python:\n",
    "\n",
    "# Blocks of Code: Instead of using braces {} or other delimiters like in many other programming languages, Python uses indentation to signify the beginning and end of blocks of code. This includes code within functions, loops, and conditional statements.\n",
    "\n",
    "# Consistent Indentation: Python enforces consistent indentation throughout your code. All statements within the same block must be indented by the same amount, typically using spaces or tabs. Mixing spaces and tabs for indentation is not recommended and can lead to syntax errors.\n",
    "\n",
    "# Whitespace Matters: Python is sensitive to leading whitespace (spaces or tabs) at the beginning of lines. Even a single space or tab character can make a difference in the meaning of the code."
   ]
  }
 ],
 "metadata": {
  "kernelspec": {
   "display_name": "Python 3 (ipykernel)",
   "language": "python",
   "name": "python3"
  },
  "language_info": {
   "codemirror_mode": {
    "name": "ipython",
    "version": 3
   },
   "file_extension": ".py",
   "mimetype": "text/x-python",
   "name": "python",
   "nbconvert_exporter": "python",
   "pygments_lexer": "ipython3",
   "version": "3.10.8"
  }
 },
 "nbformat": 4,
 "nbformat_minor": 5
}
